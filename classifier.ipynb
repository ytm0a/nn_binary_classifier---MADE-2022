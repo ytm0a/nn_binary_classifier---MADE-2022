{
 "cells": [
  {
   "cell_type": "code",
   "execution_count": 3,
   "id": "32ee8c2a",
   "metadata": {},
   "outputs": [
    {
     "data": {
      "text/html": [
       "<div>\n",
       "<style scoped>\n",
       "    .dataframe tbody tr th:only-of-type {\n",
       "        vertical-align: middle;\n",
       "    }\n",
       "\n",
       "    .dataframe tbody tr th {\n",
       "        vertical-align: top;\n",
       "    }\n",
       "\n",
       "    .dataframe thead th {\n",
       "        text-align: right;\n",
       "    }\n",
       "</style>\n",
       "<table border=\"1\" class=\"dataframe\">\n",
       "  <thead>\n",
       "    <tr style=\"text-align: right;\">\n",
       "      <th></th>\n",
       "      <th>0</th>\n",
       "      <th>1</th>\n",
       "      <th>2</th>\n",
       "      <th>3</th>\n",
       "      <th>4</th>\n",
       "      <th>5</th>\n",
       "      <th>6</th>\n",
       "      <th>7</th>\n",
       "      <th>8</th>\n",
       "      <th>9</th>\n",
       "      <th>...</th>\n",
       "      <th>22</th>\n",
       "      <th>23</th>\n",
       "      <th>24</th>\n",
       "      <th>25</th>\n",
       "      <th>26</th>\n",
       "      <th>27</th>\n",
       "      <th>28</th>\n",
       "      <th>29</th>\n",
       "      <th>30</th>\n",
       "      <th>target</th>\n",
       "    </tr>\n",
       "  </thead>\n",
       "  <tbody>\n",
       "    <tr>\n",
       "      <th>count</th>\n",
       "      <td>6963.000000</td>\n",
       "      <td>6963.000000</td>\n",
       "      <td>6963.000000</td>\n",
       "      <td>6963.000000</td>\n",
       "      <td>6963.000000</td>\n",
       "      <td>6963.000000</td>\n",
       "      <td>6963.000000</td>\n",
       "      <td>6963.000000</td>\n",
       "      <td>6963.000000</td>\n",
       "      <td>6963.000000</td>\n",
       "      <td>...</td>\n",
       "      <td>6963.000000</td>\n",
       "      <td>6963.000000</td>\n",
       "      <td>6963.000000</td>\n",
       "      <td>6963.000000</td>\n",
       "      <td>6963.000000</td>\n",
       "      <td>6963.000000</td>\n",
       "      <td>6963.000000</td>\n",
       "      <td>6963.000000</td>\n",
       "      <td>6963.000000</td>\n",
       "      <td>6963.000000</td>\n",
       "    </tr>\n",
       "    <tr>\n",
       "      <th>mean</th>\n",
       "      <td>-0.008188</td>\n",
       "      <td>0.046069</td>\n",
       "      <td>0.084133</td>\n",
       "      <td>-0.034631</td>\n",
       "      <td>-0.014021</td>\n",
       "      <td>1.537025</td>\n",
       "      <td>0.115259</td>\n",
       "      <td>-0.086073</td>\n",
       "      <td>0.029376</td>\n",
       "      <td>0.241310</td>\n",
       "      <td>...</td>\n",
       "      <td>-0.097963</td>\n",
       "      <td>0.025496</td>\n",
       "      <td>0.029191</td>\n",
       "      <td>-0.009160</td>\n",
       "      <td>0.003571</td>\n",
       "      <td>0.158798</td>\n",
       "      <td>0.064066</td>\n",
       "      <td>-0.205739</td>\n",
       "      <td>-0.122300</td>\n",
       "      <td>0.287233</td>\n",
       "    </tr>\n",
       "    <tr>\n",
       "      <th>std</th>\n",
       "      <td>3.057552</td>\n",
       "      <td>6.858400</td>\n",
       "      <td>2.695550</td>\n",
       "      <td>2.765791</td>\n",
       "      <td>7.261945</td>\n",
       "      <td>0.441206</td>\n",
       "      <td>2.762552</td>\n",
       "      <td>2.742284</td>\n",
       "      <td>2.748676</td>\n",
       "      <td>5.454805</td>\n",
       "      <td>...</td>\n",
       "      <td>2.911122</td>\n",
       "      <td>6.131952</td>\n",
       "      <td>7.884183</td>\n",
       "      <td>2.725234</td>\n",
       "      <td>2.752172</td>\n",
       "      <td>5.803769</td>\n",
       "      <td>2.779181</td>\n",
       "      <td>6.522376</td>\n",
       "      <td>6.802771</td>\n",
       "      <td>0.452503</td>\n",
       "    </tr>\n",
       "    <tr>\n",
       "      <th>min</th>\n",
       "      <td>-11.852801</td>\n",
       "      <td>-27.841715</td>\n",
       "      <td>-10.613443</td>\n",
       "      <td>-10.931017</td>\n",
       "      <td>-28.752811</td>\n",
       "      <td>1.000020</td>\n",
       "      <td>-10.311434</td>\n",
       "      <td>-10.075589</td>\n",
       "      <td>-10.141371</td>\n",
       "      <td>-19.277277</td>\n",
       "      <td>...</td>\n",
       "      <td>-10.638970</td>\n",
       "      <td>-28.953492</td>\n",
       "      <td>-33.201209</td>\n",
       "      <td>-11.850828</td>\n",
       "      <td>-9.478779</td>\n",
       "      <td>-20.325866</td>\n",
       "      <td>-9.926252</td>\n",
       "      <td>-28.539398</td>\n",
       "      <td>-28.483072</td>\n",
       "      <td>0.000000</td>\n",
       "    </tr>\n",
       "    <tr>\n",
       "      <th>25%</th>\n",
       "      <td>-2.062561</td>\n",
       "      <td>-4.317894</td>\n",
       "      <td>-1.740497</td>\n",
       "      <td>-1.896934</td>\n",
       "      <td>-4.743647</td>\n",
       "      <td>1.189318</td>\n",
       "      <td>-1.703177</td>\n",
       "      <td>-1.950722</td>\n",
       "      <td>-1.846900</td>\n",
       "      <td>-3.445588</td>\n",
       "      <td>...</td>\n",
       "      <td>-2.078737</td>\n",
       "      <td>-3.974946</td>\n",
       "      <td>-5.151041</td>\n",
       "      <td>-1.844369</td>\n",
       "      <td>-1.902487</td>\n",
       "      <td>-3.784460</td>\n",
       "      <td>-1.790703</td>\n",
       "      <td>-4.666848</td>\n",
       "      <td>-4.573261</td>\n",
       "      <td>0.000000</td>\n",
       "    </tr>\n",
       "    <tr>\n",
       "      <th>50%</th>\n",
       "      <td>-0.017501</td>\n",
       "      <td>-0.053759</td>\n",
       "      <td>0.084710</td>\n",
       "      <td>-0.075840</td>\n",
       "      <td>-0.091840</td>\n",
       "      <td>1.414150</td>\n",
       "      <td>0.143693</td>\n",
       "      <td>-0.063503</td>\n",
       "      <td>0.063927</td>\n",
       "      <td>0.261190</td>\n",
       "      <td>...</td>\n",
       "      <td>-0.088714</td>\n",
       "      <td>-0.008010</td>\n",
       "      <td>-0.050073</td>\n",
       "      <td>-0.007633</td>\n",
       "      <td>-0.007796</td>\n",
       "      <td>0.166533</td>\n",
       "      <td>0.027659</td>\n",
       "      <td>-0.234126</td>\n",
       "      <td>-0.093245</td>\n",
       "      <td>0.000000</td>\n",
       "    </tr>\n",
       "    <tr>\n",
       "      <th>75%</th>\n",
       "      <td>1.991994</td>\n",
       "      <td>4.245097</td>\n",
       "      <td>1.921483</td>\n",
       "      <td>1.777565</td>\n",
       "      <td>4.788682</td>\n",
       "      <td>1.759918</td>\n",
       "      <td>1.964735</td>\n",
       "      <td>1.786275</td>\n",
       "      <td>1.892030</td>\n",
       "      <td>3.906689</td>\n",
       "      <td>...</td>\n",
       "      <td>1.921656</td>\n",
       "      <td>4.007312</td>\n",
       "      <td>5.322672</td>\n",
       "      <td>1.840979</td>\n",
       "      <td>1.833849</td>\n",
       "      <td>4.026855</td>\n",
       "      <td>1.931042</td>\n",
       "      <td>4.296710</td>\n",
       "      <td>4.339118</td>\n",
       "      <td>1.000000</td>\n",
       "    </tr>\n",
       "    <tr>\n",
       "      <th>max</th>\n",
       "      <td>12.902967</td>\n",
       "      <td>34.619762</td>\n",
       "      <td>9.492417</td>\n",
       "      <td>11.881847</td>\n",
       "      <td>26.337084</td>\n",
       "      <td>2.717640</td>\n",
       "      <td>10.887146</td>\n",
       "      <td>10.071861</td>\n",
       "      <td>10.213687</td>\n",
       "      <td>21.919386</td>\n",
       "      <td>...</td>\n",
       "      <td>11.498217</td>\n",
       "      <td>26.914131</td>\n",
       "      <td>36.333892</td>\n",
       "      <td>9.047867</td>\n",
       "      <td>11.195738</td>\n",
       "      <td>22.448674</td>\n",
       "      <td>9.925644</td>\n",
       "      <td>27.139111</td>\n",
       "      <td>26.071364</td>\n",
       "      <td>1.000000</td>\n",
       "    </tr>\n",
       "  </tbody>\n",
       "</table>\n",
       "<p>8 rows × 32 columns</p>\n",
       "</div>"
      ],
      "text/plain": [
       "                 0            1            2            3            4  \\\n",
       "count  6963.000000  6963.000000  6963.000000  6963.000000  6963.000000   \n",
       "mean     -0.008188     0.046069     0.084133    -0.034631    -0.014021   \n",
       "std       3.057552     6.858400     2.695550     2.765791     7.261945   \n",
       "min     -11.852801   -27.841715   -10.613443   -10.931017   -28.752811   \n",
       "25%      -2.062561    -4.317894    -1.740497    -1.896934    -4.743647   \n",
       "50%      -0.017501    -0.053759     0.084710    -0.075840    -0.091840   \n",
       "75%       1.991994     4.245097     1.921483     1.777565     4.788682   \n",
       "max      12.902967    34.619762     9.492417    11.881847    26.337084   \n",
       "\n",
       "                 5            6            7            8            9  ...  \\\n",
       "count  6963.000000  6963.000000  6963.000000  6963.000000  6963.000000  ...   \n",
       "mean      1.537025     0.115259    -0.086073     0.029376     0.241310  ...   \n",
       "std       0.441206     2.762552     2.742284     2.748676     5.454805  ...   \n",
       "min       1.000020   -10.311434   -10.075589   -10.141371   -19.277277  ...   \n",
       "25%       1.189318    -1.703177    -1.950722    -1.846900    -3.445588  ...   \n",
       "50%       1.414150     0.143693    -0.063503     0.063927     0.261190  ...   \n",
       "75%       1.759918     1.964735     1.786275     1.892030     3.906689  ...   \n",
       "max       2.717640    10.887146    10.071861    10.213687    21.919386  ...   \n",
       "\n",
       "                22           23           24           25           26  \\\n",
       "count  6963.000000  6963.000000  6963.000000  6963.000000  6963.000000   \n",
       "mean     -0.097963     0.025496     0.029191    -0.009160     0.003571   \n",
       "std       2.911122     6.131952     7.884183     2.725234     2.752172   \n",
       "min     -10.638970   -28.953492   -33.201209   -11.850828    -9.478779   \n",
       "25%      -2.078737    -3.974946    -5.151041    -1.844369    -1.902487   \n",
       "50%      -0.088714    -0.008010    -0.050073    -0.007633    -0.007796   \n",
       "75%       1.921656     4.007312     5.322672     1.840979     1.833849   \n",
       "max      11.498217    26.914131    36.333892     9.047867    11.195738   \n",
       "\n",
       "                27           28           29           30       target  \n",
       "count  6963.000000  6963.000000  6963.000000  6963.000000  6963.000000  \n",
       "mean      0.158798     0.064066    -0.205739    -0.122300     0.287233  \n",
       "std       5.803769     2.779181     6.522376     6.802771     0.452503  \n",
       "min     -20.325866    -9.926252   -28.539398   -28.483072     0.000000  \n",
       "25%      -3.784460    -1.790703    -4.666848    -4.573261     0.000000  \n",
       "50%       0.166533     0.027659    -0.234126    -0.093245     0.000000  \n",
       "75%       4.026855     1.931042     4.296710     4.339118     1.000000  \n",
       "max      22.448674     9.925644    27.139111    26.071364     1.000000  \n",
       "\n",
       "[8 rows x 32 columns]"
      ]
     },
     "execution_count": 3,
     "metadata": {},
     "output_type": "execute_result"
    }
   ],
   "source": [
    "import numpy as np\n",
    "import pandas as pd\n",
    "\n",
    "from tensorflow.keras.models import Sequential\n",
    "from tensorflow.keras.layers import Dense\n",
    "from scikeras.wrappers import KerasClassifier\n",
    "from sklearn.model_selection import cross_val_score\n",
    "from sklearn.preprocessing import LabelEncoder\n",
    "from sklearn.model_selection import StratifiedKFold\n",
    "from sklearn.preprocessing import StandardScaler\n",
    "from sklearn.pipeline import Pipeline\n",
    "\n",
    "\n",
    "dataframe_train = pd.read_csv (\"train.csv\")\n",
    "dataframe_train.describe()\n",
    "#dataframe_train.isnull().values.any()"
   ]
  },
  {
   "cell_type": "code",
   "execution_count": 4,
   "id": "fd25b5f3",
   "metadata": {},
   "outputs": [],
   "source": [
    "#normalized_df=(dataframe_train-dataframe_train.min())/(dataframe_train.max()-dataframe_train.min())\n",
    "#normalized_dataframe_train['target'] = dataframe_train['target']\n",
    "#normalized_dataframe_train.describe()\n",
    "x_trainfull = dataframe_train.drop(['target'], axis=1).values.tolist()\n",
    "y_trainfull = dataframe_train['target'].values.tolist()\n",
    "\n",
    "normalized_dataframe_train = dataframe_train\n",
    "#np.shape(x_train), np.shape(x_train)"
   ]
  },
  {
   "cell_type": "code",
   "execution_count": 5,
   "id": "561c5ceb",
   "metadata": {},
   "outputs": [],
   "source": [
    "#from sklearn.model_selection import train_test_split\n",
    "\n",
    "#x_train, x_test, y_train, y_test = train_test_split(normalized_dataframe_train.iloc[:,:31], normalized_dataframe_train['target'], shuffle = True , test_size=0,random_state = 1)\n",
    "#print (x_train.shape, y_train.shape)\n",
    "#print (x_test.shape, y_test.shape)\n",
    "#print (x_train.std())\n",
    "#print (x_test.std())\n"
   ]
  },
  {
   "cell_type": "code",
   "execution_count": 7,
   "id": "f8f2312a",
   "metadata": {},
   "outputs": [
    {
     "name": "stdout",
     "output_type": "stream",
     "text": [
      "Model: \"sequential_1\"\n",
      "_________________________________________________________________\n",
      " Layer (type)                Output Shape              Param #   \n",
      "=================================================================\n",
      " dropout_2 (Dropout)         (None, 31)                0         \n",
      "                                                                 \n",
      " dense_3 (Dense)             (None, 16)                512       \n",
      "                                                                 \n",
      " dropout_3 (Dropout)         (None, 16)                0         \n",
      "                                                                 \n",
      " dense_4 (Dense)             (None, 16)                272       \n",
      "                                                                 \n",
      " dense_5 (Dense)             (None, 1)                 17        \n",
      "                                                                 \n",
      "=================================================================\n",
      "Total params: 801\n",
      "Trainable params: 801\n",
      "Non-trainable params: 0\n",
      "_________________________________________________________________\n"
     ]
    }
   ],
   "source": [
    "#Топология сети\n",
    "\n",
    "import tensorflow as tf\n",
    "from tensorflow import keras\n",
    "from tensorflow.keras import layers\n",
    "from keras import models\n",
    "from keras import optimizers\n",
    "from keras import losses\n",
    "from keras import regularizers\n",
    "\n",
    "import os\n",
    "os.environ['CUDA_VISIBLE_DEVICES'] = '-1'\n",
    "\n",
    "\n",
    "model=models.Sequential()\n",
    "model.add(layers.Dropout(0.088, input_shape=(31,)))\n",
    "model.add(layers.Dense(16,kernel_regularizer=regularizers.l2(0.0017),activation='relu') )\n",
    "#model.add(layers.Dense(19,kernel_regularizer=regularizers.l2(0.005),activation='relu') )\n",
    "model.add(layers.Dropout(0.1))\n",
    "model.add(layers.Dense(16,kernel_regularizer=regularizers.l2(0.0017),activation='relu'))\n",
    "model.add(layers.Dense(1,activation='sigmoid'))\n",
    "\n",
    "\n",
    "model.compile(\n",
    "    loss='binary_crossentropy',\n",
    "    optimizer='adam',\n",
    "    metrics=['accuracy']\n",
    ")\n",
    "model.summary()"
   ]
  },
  {
   "cell_type": "code",
   "execution_count": 9,
   "id": "4935af7a",
   "metadata": {},
   "outputs": [
    {
     "name": "stdout",
     "output_type": "stream",
     "text": [
      "INFO:tensorflow:Assets written to: ram:///tmp/tmpz5l3njpe/assets\n",
      "INFO:tensorflow:Assets written to: ram:///tmp/tmpng8m1f5m/assets\n",
      "INFO:tensorflow:Assets written to: ram:///tmp/tmpdoi7h942/assets\n",
      "INFO:tensorflow:Assets written to: ram:///tmp/tmpb72pm62h/assets\n",
      "INFO:tensorflow:Assets written to: ram:///tmp/tmpsxqkz_6y/assets\n",
      "Model: 94.57% (0.44%)\n"
     ]
    }
   ],
   "source": [
    "#Кросс-валидация\n",
    "\n",
    "estimators = []\n",
    "#estimators.append(('standardize', StandardScaler()))\n",
    "estimators.append(('mlp', KerasClassifier(model=model, epochs=30, batch_size=64, verbose=0)))\n",
    "pipeline = Pipeline(estimators)\n",
    "kfold = StratifiedKFold(n_splits=5, shuffle=True)\n",
    "results = cross_val_score(pipeline, x_trainfull, y_trainfull, cv=kfold)\n",
    "\n",
    "print(\"Model: %.2f%% (%.2f%%)\" % (results.mean()*100, results.std()*100))"
   ]
  },
  {
   "cell_type": "code",
   "execution_count": 1728,
   "id": "13ceb0f2",
   "metadata": {},
   "outputs": [
    {
     "name": "stdout",
     "output_type": "stream",
     "text": [
      "(6963, 31)\n",
      "(6818, 31)\n",
      "(9636, 31)\n",
      "(9630, 31)\n"
     ]
    }
   ],
   "source": [
    "from imblearn.over_sampling import SMOTE\n",
    "#smote = SMOTE()\n",
    "#X_smote, Y_smote = smote.fit_sample(normalized_dataframe_train.iloc[:,:31], normalized_dataframe_train['target'])\n",
    "\n",
    "print(normalized_dataframe_train.iloc[:,:31].shape)\n",
    "from imblearn.under_sampling import TomekLinks\n",
    "tl = TomekLinks(sampling_strategy='majority')\n",
    "X_tl, Y_tl= tl.fit_sample(normalized_dataframe_train.iloc[:,:31], normalized_dataframe_train['target'])\n",
    "print(np.shape(X_tl))\n",
    "\n",
    "\n",
    "smote = SMOTE()\n",
    "X_smote_tl, Y_smote_tl = smote.fit_sample(X_tl, Y_tl)\n",
    "print(np.shape(X_smote_tl))\n",
    "\n",
    "\n",
    "tl = TomekLinks(sampling_strategy='all')\n",
    "X_smote_tl, Y_smote_tl = tl.fit_sample(X_smote_tl, Y_smote_tl)\n",
    "\n",
    "print(np.shape(X_smote_tl))\n"
   ]
  },
  {
   "cell_type": "code",
   "execution_count": 1893,
   "id": "704fb815",
   "metadata": {},
   "outputs": [
    {
     "name": "stdout",
     "output_type": "stream",
     "text": [
      "211/211 [==============================] - 1s 3ms/step - loss: 0.1688 - accuracy: 0.9456 - val_loss: 0.1109 - val_accuracy: 0.9803\n",
      "Loss:  0.11085505783557892\n",
      "accuracy:  0.9802699685096741\n"
     ]
    }
   ],
   "source": [
    "#Обучение модели\n",
    "from sklearn.model_selection import train_test_split\n",
    "\n",
    "#x_train, x_test, y_train, y_test = train_test_split(normalized_dataframe_train.iloc[:,:31], normalized_dataframe_train['target'], shuffle = True , test_size=0.2,random_state = 0)\n",
    "x_train, x_test, y_train, y_test = train_test_split(X_smote_tl, Y_smote_tl, shuffle = True , test_size=0.3,random_state = 3)\n",
    "\n",
    "\n",
    "from keras import callbacks\n",
    "earlystopping = callbacks.EarlyStopping(monitor =\"val_loss\", \n",
    "                                        mode =\"min\", patience = 5, \n",
    "                                        restore_best_weights = True)\n",
    "  \n",
    "#history = model.fit(x_train, y_train, batch_size = 32, \n",
    "#                    epochs = 5, verbose=1, validation_data = (x_test, y_test), \n",
    "#                    callbacks =[earlystopping])\n",
    "\n",
    "estimators = []\n",
    "#estimators.append(('standardize', StandardScaler()))\n",
    "estimators.append(('mlp', model.fit(x_train, y_train, batch_size = 32, \n",
    "                    epochs = 1, verbose=1, validation_data = (x_test, y_test), \n",
    "                    callbacks =[earlystopping])))\n",
    "pipeline = Pipeline(estimators)\n",
    "\n",
    "loss, accuracy = model.evaluate(x_test, y_test, verbose=0)\n",
    "print(\"Loss: \", loss)\n",
    "print(\"accuracy: \", accuracy)"
   ]
  },
  {
   "cell_type": "code",
   "execution_count": 1894,
   "id": "3a24fab3",
   "metadata": {},
   "outputs": [
    {
     "name": "stdout",
     "output_type": "stream",
     "text": [
      "181/181 [==============================] - 0s 2ms/step\n"
     ]
    },
    {
     "data": {
      "text/plain": [
       "0.9799789251844047"
      ]
     },
     "execution_count": 1894,
     "metadata": {},
     "output_type": "execute_result"
    }
   ],
   "source": [
    "#F1score на train.csv\n",
    "from sklearn import metrics\n",
    "y_pred = model.predict(x_test, batch_size = 16)\n",
    "y_pred_bool = (y_pred > .5).astype(int)\n",
    "\n",
    "metrics.f1_score(y_test, y_pred_bool)"
   ]
  },
  {
   "cell_type": "code",
   "execution_count": 1891,
   "id": "8e6e4432",
   "metadata": {
    "scrolled": false
   },
   "outputs": [
    {
     "name": "stdout",
     "output_type": "stream",
     "text": [
      "123/123 [==============================] - 0s 2ms/step\n"
     ]
    }
   ],
   "source": [
    "#Запись предсказания модели в файл\n",
    "dataframe_test = pd.read_csv (\"test.csv\")\n",
    "#normalized_df=(dataframe_test-dataframe_test.min())/(dataframe_test.max()-dataframe_test.min())\n",
    "#normalized_dataframe_test = dataframe_test\n",
    "\n",
    "x_pred = dataframe_test.values.tolist()\n",
    "y_pred = model.predict(x_pred)\n",
    "Y = (y_pred > .5).astype(int)\n",
    "np.savetxt('pred.csv',Y, fmt='%d',header='target')"
   ]
  },
  {
   "cell_type": "code",
   "execution_count": 1892,
   "id": "a1fe8e1c",
   "metadata": {
    "scrolled": true
   },
   "outputs": [
    {
     "name": "stdout",
     "output_type": "stream",
     "text": [
      "(3920,) (3920,)\n",
      "551.0\n"
     ]
    },
    {
     "data": {
      "text/plain": [
       "0.8580994076744785"
      ]
     },
     "execution_count": 1892,
     "metadata": {},
     "output_type": "execute_result"
    }
   ],
   "source": [
    "#F1score относительно лучшего решения\n",
    "y_pred = np.loadtxt('pred.csv', skiprows = 1)\n",
    "y_best = np.loadtxt('predbest.csv', skiprows = 1)\n",
    "sum1 = 0\n",
    "for i in range(len(y_pred)):\n",
    "    sum1 += abs(y_best[i] - y_pred[i])\n",
    "print(np.shape(y_pred), np.shape(y_best))\n",
    "print(sum1)\n",
    "metrics.f1_score(y_best, y_pred)"
   ]
  },
  {
   "cell_type": "code",
   "execution_count": 1367,
   "id": "1c393d6f",
   "metadata": {},
   "outputs": [],
   "source": [
    "####"
   ]
  },
  {
   "cell_type": "code",
   "execution_count": 316,
   "id": "50b93a9e",
   "metadata": {},
   "outputs": [
    {
     "data": {
      "text/html": [
       "<iframe\n",
       "    scrolling=\"no\"\n",
       "    width=\"100%\"\n",
       "    height=\"545px\"\n",
       "    src=\"iframe_figures/figure_316.html\"\n",
       "    frameborder=\"0\"\n",
       "    allowfullscreen\n",
       "></iframe>\n"
      ]
     },
     "metadata": {},
     "output_type": "display_data"
    },
    {
     "name": "stdout",
     "output_type": "stream",
     "text": [
      "RadViz3D done! Time elapsed: 0.22623157501220703 seconds\n"
     ]
    }
   ],
   "source": [
    "from RadViz.main import RadViz2D\n",
    "from RadViz.main import RadViz3D\n",
    "import time\n",
    "import plotly.io as pio\n",
    "pio.renderers.default='iframe'\n",
    "\n",
    "BPs=10000\n",
    "time_start = time.time()\n",
    "y=dataframe_train['target']\n",
    "X=dataframe_train.drop(['target'], axis=1)\n",
    "RadViz3D(y,X,BPs)\n",
    "print( 'RadViz3D done! Time elapsed: {} seconds'.format(time.time()-time_start))"
   ]
  },
  {
   "cell_type": "code",
   "execution_count": 62,
   "id": "20350d92",
   "metadata": {},
   "outputs": [
    {
     "data": {
      "text/html": [
       "<iframe\n",
       "    scrolling=\"no\"\n",
       "    width=\"100%\"\n",
       "    height=\"545px\"\n",
       "    src=\"iframe_figures/figure_62.html\"\n",
       "    frameborder=\"0\"\n",
       "    allowfullscreen\n",
       "></iframe>\n"
      ]
     },
     "metadata": {},
     "output_type": "display_data"
    },
    {
     "name": "stdout",
     "output_type": "stream",
     "text": [
      "RadViz3D done! Time elapsed: 0.19585466384887695 seconds\n"
     ]
    }
   ],
   "source": [
    "\n",
    "BPs=10000\n",
    "time_start = time.time()\n",
    "X = X_smote_tl\n",
    "y = Y_smote_tl \n",
    "RadViz3D(y,X,BPs)\n",
    "print( 'RadViz3D done! Time elapsed: {} seconds'.format(time.time()-time_start))"
   ]
  },
  {
   "cell_type": "code",
   "execution_count": 330,
   "id": "2562a8ef",
   "metadata": {},
   "outputs": [
    {
     "data": {
      "text/html": [
       "<iframe\n",
       "    scrolling=\"no\"\n",
       "    width=\"100%\"\n",
       "    height=\"545px\"\n",
       "    src=\"iframe_figures/figure_330.html\"\n",
       "    frameborder=\"0\"\n",
       "    allowfullscreen\n",
       "></iframe>\n"
      ]
     },
     "metadata": {},
     "output_type": "display_data"
    },
    {
     "name": "stdout",
     "output_type": "stream",
     "text": [
      "RadViz3D done! Time elapsed: 0.17314839363098145 seconds\n"
     ]
    }
   ],
   "source": [
    "BPs=10000\n",
    "time_start = time.time()\n",
    "dataframe_test['target'] = Y\n",
    "y=dataframe_test['target']\n",
    "X=dataframe_test.drop(['target'], axis=1)\n",
    "RadViz3D(y,X,BPs)\n",
    "print( 'RadViz3D done! Time elapsed: {} seconds'.format(time.time()-time_start))"
   ]
  },
  {
   "cell_type": "code",
   "execution_count": null,
   "id": "139a7a3d",
   "metadata": {},
   "outputs": [],
   "source": []
  }
 ],
 "metadata": {
  "kernelspec": {
   "display_name": "Python 3 (ipykernel)",
   "language": "python",
   "name": "python3"
  },
  "language_info": {
   "codemirror_mode": {
    "name": "ipython",
    "version": 3
   },
   "file_extension": ".py",
   "mimetype": "text/x-python",
   "name": "python",
   "nbconvert_exporter": "python",
   "pygments_lexer": "ipython3",
   "version": "3.9.7"
  }
 },
 "nbformat": 4,
 "nbformat_minor": 5
}
